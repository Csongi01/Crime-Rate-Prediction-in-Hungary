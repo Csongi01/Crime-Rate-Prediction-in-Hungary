{
 "cells": [
  {
   "cell_type": "markdown",
   "metadata": {
    "id": "EglXRIhUadlW"
   },
   "source": [
    "### Import the required libraries and read the file containing 2024 crime data."
   ]
  },
  {
   "cell_type": "code",
   "execution_count": null,
   "metadata": {
    "id": "JCQzb3c4dNkd"
   },
   "outputs": [],
   "source": [
    "import pandas as pd\n",
    "import matplotlib.pyplot as plt\n",
    "import numpy as np\n",
    "from sklearn.preprocessing import LabelEncoder\n",
    "from sklearn.model_selection import train_test_split\n",
    "from sklearn import svm\n",
    "from sklearn.neighbors import KNeighborsRegressor\n",
    "from sklearn import tree\n",
    "from sklearn.ensemble import RandomForestRegressor\n",
    "from sklearn.neural_network import MLPRegressor\n",
    "from sklearn import metrics\n",
    "from sklearn.ensemble import ExtraTreesRegressor"
   ]
  },
  {
   "cell_type": "code",
   "execution_count": null,
   "metadata": {
    "id": "ezFKCKPZ6ZXG"
   },
   "outputs": [],
   "source": [
    "crime_df = pd.read_excel('Regbcs 2009-2023_2024_I-IX.xlsx', sheet_name=\"2024_I-IX_hó\" ,engine='openpyxl')"
   ]
  },
  {
   "cell_type": "markdown",
   "metadata": {
    "id": "rRDIJoK9VR3u"
   },
   "source": [
    "###Convert Dataset\n",
    "Ensure that the 2024 crime data is aligned with the dataset used to train the model. This alignment is essential for validating the model’s performance and ensuring consistent predictions. Begin by determining the city category based on population, then remove cities with populations under 1,000. Next, drop any missing values and exclude foreign crime data. Categorize the cities and calculate the crime rate, adding 25% to account for a full year. Finally, remove the top and bottom 0.001% of the data to eliminate outliers."
   ]
  },
  {
   "cell_type": "code",
   "execution_count": null,
   "metadata": {
    "colab": {
     "base_uri": "https://localhost:8080/"
    },
    "id": "SArRp3fQCMls",
    "outputId": "8d021d1f-d30e-441d-e158-e0438b827a6f"
   },
   "outputs": [
    {
     "name": "stderr",
     "output_type": "stream",
     "text": [
      "<ipython-input-69-ab1013f23a12>:33: SettingWithCopyWarning: \n",
      "A value is trying to be set on a copy of a slice from a DataFrame.\n",
      "Try using .loc[row_indexer,col_indexer] = value instead\n",
      "\n",
      "See the caveats in the documentation: https://pandas.pydata.org/pandas-docs/stable/user_guide/indexing.html#returning-a-view-versus-a-copy\n",
      "  merged_data['City Category'] = merged_data['Population'].apply(categorize_population)\n"
     ]
    }
   ],
   "source": [
    "import pandas as pd\n",
    "\n",
    "# Load the population data\n",
    "population_data = pd.read_excel('Population.xlsx', engine='openpyxl')\n",
    "\n",
    "# Normalize location names in both datasets (remove extra spaces, standardize formats if needed)\n",
    "crime_df['Elkövetés helye'] = crime_df['Elkövetés helye'].str.strip()\n",
    "population_data['Location'] = population_data['Location'].str.strip()\n",
    "\n",
    "# Drop duplicates from population_data to ensure no duplicate location entries\n",
    "population_data = population_data.drop_duplicates(subset='Location')\n",
    "\n",
    "# Merge the datasets on the location names\n",
    "merged_data = pd.merge(crime_df, population_data, left_on='Elkövetés helye', right_on='Location', how='left')\n",
    "\n",
    "# Dropping rows where population is null or City is (üres) or population is below 1000\n",
    "merged_data = merged_data[merged_data['Population'].notna() & (merged_data['Elkövetés helye'] != '(üres)') & (merged_data['Population'] >= 1000)]\n",
    "\n",
    "# Assign population categories\n",
    "def categorize_population(population):\n",
    "    if 100000 <= population <= 500000:\n",
    "        return 'Nagyváros'\n",
    "    elif 10000 <= population < 100000:\n",
    "        return 'Középváros'\n",
    "    elif 5000 <= population < 10000:\n",
    "        return 'Kisváros'\n",
    "    elif 2000 <= population < 5000:\n",
    "        return 'Nagyfalvak'\n",
    "    else:\n",
    "        return 'Középfalvak'\n",
    "\n",
    "merged_data['City Category'] = merged_data['Population'].apply(categorize_population)\n",
    "\n",
    "# Drop the redundant 'Location' column from the population data\n",
    "merged_data = merged_data.drop(columns=['Location'])\n",
    "\n",
    "# Define function to calculate crime rate as a percentage based on the city category\n",
    "def calculate_crime_rate(row):\n",
    "    population = row['Population']\n",
    "    crimes = row['Regisztrált bűncselekmények száma']\n",
    "\n",
    "    if row['City Category'] == 'Nagyváros':\n",
    "        return round((crimes / (population / 100000)), 4)*1.25 # adjust the crime rate (add + 25%)\n",
    "    elif row['City Category'] == 'Középváros':\n",
    "        return round((crimes / (population / 1000)), 4)*1.25\n",
    "    elif row['City Category'] == 'Kisváros':\n",
    "        return round((crimes / (population / 1000)), 4)*1.25\n",
    "    elif row['City Category'] == 'Nagyfalvak':\n",
    "        return round((crimes / (population / 100)), 4)*1.25\n",
    "    elif row['City Category'] == 'Középfalvak':\n",
    "        return round((crimes / (population / 100)), 4)*1.25\n",
    "    else:\n",
    "        return None\n",
    "\n",
    "# Apply the function to create the new 'Crime Rate' column\n",
    "merged_data['Crime Rate'] = merged_data.apply(calculate_crime_rate, axis=1)\n",
    "\n",
    "#Remove the top and bottom 0.001% of the data to eliminate outliers\n",
    "min_treshold, max_treshold = merged_data['Crime Rate'].quantile([0.001,0.9990])\n",
    "merged_data = merged_data[(merged_data['Crime Rate'] >= min_treshold) & (merged_data['Crime Rate'] <= max_treshold)]\n",
    "\n",
    "\n",
    "# Save the merged DataFrame to an Excel file\n",
    "merged_data.to_excel('2024preprocessed_crime_data.xlsx', index=False, engine='openpyxl')\n"
   ]
  },
  {
   "cell_type": "markdown",
   "metadata": {
    "id": "ajIGBjP1V0Is"
   },
   "source": [
    "### Preprocess 2024 crime data for model predictions.\n",
    "\n",
    "Encode the variables in the 2024 crime dataset to match the format and structure of the original training dataset. Ensure that categorical variables are transformed using the same encoding methods, and numerical variables are scaled or normalized consistently. **(city, city_category, crime_type)**"
   ]
  },
  {
   "cell_type": "code",
   "execution_count": 70,
   "metadata": {
    "id": "t9a8IPcqiz9D"
   },
   "outputs": [],
   "source": [
    "import pandas as pd\n",
    "\n",
    "# Load the main Excel file with columns 'City', 'Category', and 'Crime Type'\n",
    "main_file = pd.read_excel('2024preprocessed_crime_data.xlsx')  # Replace with your filename\n",
    "main_file = main_file.dropna()\n",
    "\n",
    "# Helper function to read a TXT file and create a dictionary\n",
    "def load_mapping(file_path):\n",
    "    mapping = {}\n",
    "    with open(file_path, 'r') as f:\n",
    "        for line in f:\n",
    "            key, value = line.strip().split(':')\n",
    "            mapping[key.strip()] = int(value.strip())  # Convert value to int if needed\n",
    "    return mapping\n",
    "\n",
    "# Load all mappings from respective TXT files\n",
    "city_mapping = load_mapping('City_Mapping.txt')\n",
    "category_mapping = load_mapping('City_Category_Mapping.txt')\n",
    "crime_type_mapping = load_mapping('Crime_Type_Mapping.txt')\n",
    "\n",
    "# Apply the mappings to respective columns in the DataFrame\n",
    "main_file['Elkövetés helye'] = main_file['Elkövetés helye'].map(city_mapping)\n",
    "main_file['City Category'] = main_file['City Category'].map(category_mapping)\n",
    "main_file['Bűncselemény'] = main_file['Bűncselemény'].map(crime_type_mapping)\n",
    "\n",
    "# Save the input file (without dropping columns)\n",
    "main_file.to_excel('test_output.xlsx', index=False)\n",
    "\n",
    "# Drop the specified columns and save the output file\n",
    "columns_to_drop = ['Regisztrált bűncselekmények száma', 'Crime Rate']  # Update column names as needed\n",
    "main_file.drop(columns=columns_to_drop, inplace=True)\n",
    "main_file.to_excel('test_input.xlsx', index=False)\n"
   ]
  },
  {
   "cell_type": "markdown",
   "metadata": {
    "id": "bHvPn2onXMMj"
   },
   "source": [
    "### Train the original model.\n",
    "Train the original model using the already preprocessed data."
   ]
  },
  {
   "cell_type": "code",
   "execution_count": 71,
   "metadata": {
    "id": "tAPrCBvRlnjO"
   },
   "outputs": [],
   "source": [
    "real_df = pd.read_excel('merged_crime_population_final.xlsx' ,engine='openpyxl')"
   ]
  },
  {
   "cell_type": "code",
   "execution_count": 72,
   "metadata": {
    "colab": {
     "base_uri": "https://localhost:8080/"
    },
    "id": "lp6bq3Iu1r5l",
    "outputId": "199d504d-9711-49e0-e99b-644b7d1293cd"
   },
   "outputs": [
    {
     "data": {
      "text/plain": [
       "array([[   229,    140,   2019, 122973,      4],\n",
       "       [   229,    140,   2022, 122973,      4],\n",
       "       [   229,    398,   2019,  32625,      2],\n",
       "       ...,\n",
       "       [   226,   1282,   2011,   6510,      0],\n",
       "       [   226,   1284,   2010,   1558,      1],\n",
       "       [   226,   1285,   2016,   3373,      3]])"
      ]
     },
     "execution_count": 72,
     "metadata": {},
     "output_type": "execute_result"
    }
   ],
   "source": [
    "x = real_df[real_df.columns[0:5]].values\n",
    "x"
   ]
  },
  {
   "cell_type": "code",
   "execution_count": 73,
   "metadata": {
    "colab": {
     "base_uri": "https://localhost:8080/"
    },
    "id": "St_Z4Mr63AQY",
    "outputId": "7886a678-f255-49e1-c047-b385192ce815"
   },
   "outputs": [
    {
     "data": {
      "text/plain": [
       "array([0.8132, 3.2527, 0.0307, ..., 0.4608, 0.0642, 0.0296])"
      ]
     },
     "execution_count": 73,
     "metadata": {},
     "output_type": "execute_result"
    }
   ],
   "source": [
    "y = real_df['Crime Rate'].values\n",
    "y"
   ]
  },
  {
   "cell_type": "code",
   "execution_count": 74,
   "metadata": {
    "id": "DLrCDLDB3GZm"
   },
   "outputs": [],
   "source": [
    "x_train, x_test, y_train, y_test = train_test_split(x, y, test_size=0.2, random_state=48)"
   ]
  },
  {
   "cell_type": "code",
   "execution_count": 75,
   "metadata": {
    "id": "sVzgf3vl3IZw"
   },
   "outputs": [],
   "source": [
    "model2 = RandomForestRegressor(n_jobs=-1, random_state=574)\n",
    "model2.fit(x_train, y_train)\n",
    "y_pred = model2.predict(x_test)"
   ]
  },
  {
   "cell_type": "code",
   "execution_count": 76,
   "metadata": {
    "colab": {
     "base_uri": "https://localhost:8080/"
    },
    "id": "xv0Go3c93K2O",
    "outputId": "24a0fe53-0d10-4296-9d10-06f0b31363eb"
   },
   "outputs": [
    {
     "name": "stdout",
     "output_type": "stream",
     "text": [
      "Mean Absolute Error: 0.502419632997934\n",
      "Mean Squared Error: 13.772615175535513\n",
      "R2 score: 0.8443686176579677\n"
     ]
    }
   ],
   "source": [
    "print('Mean Absolute Error:', metrics.mean_absolute_error(y_test, y_pred))\n",
    "print('Mean Squared Error:', metrics.mean_squared_error(y_test, y_pred))\n",
    "print('R2 score:', metrics.r2_score(y_test, y_pred))\n"
   ]
  },
  {
   "cell_type": "markdown",
   "metadata": {
    "id": "z9Nk7kxqZM8u"
   },
   "source": [
    "### Make Predictions on 2024 Crime Data.\n",
    "Read the input file containing the independent variables for the 2024 crime data and use the original model to make predictions based on this data."
   ]
  },
  {
   "cell_type": "code",
   "execution_count": 91,
   "metadata": {
    "colab": {
     "base_uri": "https://localhost:8080/"
    },
    "id": "ZsaU7z9B3NtO",
    "outputId": "8247069b-a559-4f7a-a827-6231b479adf7"
   },
   "outputs": [
    {
     "name": "stderr",
     "output_type": "stream",
     "text": [
      "/usr/local/lib/python3.10/dist-packages/sklearn/base.py:486: UserWarning: X has feature names, but RandomForestRegressor was fitted without feature names\n",
      "  warnings.warn(\n"
     ]
    },
    {
     "name": "stdout",
     "output_type": "stream",
     "text": [
      "2024 data predictions:\n",
      "[0.040413 0.022105 0.100141 ... 0.047824 0.073266 0.127405]\n"
     ]
    }
   ],
   "source": [
    "x_real_test = pd.read_excel('test_input.xlsx') # Input file with independent variables\n",
    "real_test_predictions = model2.predict(x_real_test)\n",
    "\n",
    "# Display the predictions\n",
    "print(\"2024 data predictions:\")\n",
    "print(real_test_predictions)"
   ]
  },
  {
   "cell_type": "markdown",
   "metadata": {
    "id": "GVxG0Y70YCoV"
   },
   "source": [
    "###Read the File Containing the actual 2024 Crime Rates.\n",
    "\n",
    "Read the file, which contains the actual crime rates for the 2024 data."
   ]
  },
  {
   "cell_type": "code",
   "execution_count": 81,
   "metadata": {
    "colab": {
     "base_uri": "https://localhost:8080/"
    },
    "id": "qLHekqmr3TB4",
    "outputId": "c5160094-d4bf-4078-de63-3d190b14c4ba"
   },
   "outputs": [
    {
     "name": "stdout",
     "output_type": "stream",
     "text": [
      "0        0.029750\n",
      "1        0.023000\n",
      "2        0.076125\n",
      "3        0.057000\n",
      "4        0.067750\n",
      "           ...   \n",
      "18338    0.059125\n",
      "18339    0.060250\n",
      "18340    0.022375\n",
      "18341    0.045875\n",
      "18342    0.052125\n",
      "Name: Crime Rate, Length: 18343, dtype: float64\n"
     ]
    }
   ],
   "source": [
    "test = pd.read_excel('test_output.xlsx')\n",
    "y_real_test = test['Crime Rate'] # actual crimes rate for 2024\n",
    "print(y_real_test)"
   ]
  },
  {
   "cell_type": "markdown",
   "metadata": {
    "id": "mZKlW-h_YiB8"
   },
   "source": [
    "### Evaluate the Model's performance using the 2024 Crime Data.\n",
    "\n",
    "\n",
    "\n"
   ]
  },
  {
   "cell_type": "code",
   "execution_count": 92,
   "metadata": {
    "colab": {
     "base_uri": "https://localhost:8080/",
     "height": 115
    },
    "id": "J1s9VRAN3UpB",
    "outputId": "a0e2f0ab-10fb-45d7-da9b-d75a068f68e4"
   },
   "outputs": [
    {
     "name": "stderr",
     "output_type": "stream",
     "text": [
      "<ipython-input-92-4507e6e4aa76>:26: FutureWarning: Styler.applymap has been deprecated. Use Styler.map instead.\n",
      "  styled_df = metrics_df.style.applymap(highlight_values)\n"
     ]
    },
    {
     "data": {
      "text/html": [
       "<style type=\"text/css\">\n",
       "#T_c89d4_row0_col0, #T_c89d4_row0_col1, #T_c89d4_row0_col2, #T_c89d4_row0_col3, #T_c89d4_row0_col4, #T_c89d4_row0_col5 {\n",
       "  background-color: yellow;\n",
       "}\n",
       "</style>\n",
       "<table id=\"T_c89d4\" class=\"dataframe\">\n",
       "  <thead>\n",
       "    <tr>\n",
       "      <th class=\"blank level0\" >&nbsp;</th>\n",
       "      <th id=\"T_c89d4_level0_col0\" class=\"col_heading level0 col0\" >Data</th>\n",
       "      <th id=\"T_c89d4_level0_col1\" class=\"col_heading level0 col1\" >MAE</th>\n",
       "      <th id=\"T_c89d4_level0_col2\" class=\"col_heading level0 col2\" >MSE</th>\n",
       "      <th id=\"T_c89d4_level0_col3\" class=\"col_heading level0 col3\" >RMSE</th>\n",
       "      <th id=\"T_c89d4_level0_col4\" class=\"col_heading level0 col4\" >R²</th>\n",
       "      <th id=\"T_c89d4_level0_col5\" class=\"col_heading level0 col5\" >RMSLE</th>\n",
       "    </tr>\n",
       "  </thead>\n",
       "  <tbody>\n",
       "    <tr>\n",
       "      <th id=\"T_c89d4_level0_row0\" class=\"row_heading level0 row0\" >0</th>\n",
       "      <td id=\"T_c89d4_row0_col0\" class=\"data row0 col0\" >2024 Crime Data</td>\n",
       "      <td id=\"T_c89d4_row0_col1\" class=\"data row0 col1\" >0.440200</td>\n",
       "      <td id=\"T_c89d4_row0_col2\" class=\"data row0 col2\" >10.237800</td>\n",
       "      <td id=\"T_c89d4_row0_col3\" class=\"data row0 col3\" >3.199700</td>\n",
       "      <td id=\"T_c89d4_row0_col4\" class=\"data row0 col4\" >0.824500</td>\n",
       "      <td id=\"T_c89d4_row0_col5\" class=\"data row0 col5\" >0.224400</td>\n",
       "    </tr>\n",
       "  </tbody>\n",
       "</table>\n"
      ],
      "text/plain": [
       "<pandas.io.formats.style.Styler at 0x7dd78bd14fd0>"
      ]
     },
     "execution_count": 92,
     "metadata": {},
     "output_type": "execute_result"
    }
   ],
   "source": [
    "import pandas as pd\n",
    "from sklearn.metrics import mean_squared_error, mean_absolute_error, mean_squared_log_error, r2_score\n",
    "import numpy as np\n",
    "\n",
    "mse = mean_squared_error(y_real_test, real_test_predictions)\n",
    "mae = mean_absolute_error(y_real_test, real_test_predictions)\n",
    "rmse = np.sqrt(mse)\n",
    "r2 = r2_score(y_real_test, real_test_predictions)\n",
    "rmsle = np.sqrt(mean_squared_log_error(y_real_test, real_test_predictions))\n",
    "\n",
    "metrics_data = {\n",
    "    \"Data\": [\"2024 Crime Data\"],\n",
    "    \"MAE\": [mae],\n",
    "    \"MSE\": [mse],\n",
    "    \"RMSE\": [rmse],\n",
    "    \"R²\": [r2],\n",
    "    \"RMSLE\": [rmsle]\n",
    "}\n",
    "\n",
    "metrics_df = pd.DataFrame(metrics_data).round(4)\n",
    "\n",
    "# Styling the DataFrame\n",
    "def highlight_values(val):\n",
    "    return \"background-color: yellow;\"\n",
    "\n",
    "styled_df = metrics_df.style.applymap(highlight_values)\n",
    "styled_df"
   ]
  }
 ],
 "metadata": {
  "colab": {
   "provenance": []
  },
  "kernelspec": {
   "display_name": "Python 3",
   "name": "python3"
  },
  "language_info": {
   "name": "python"
  }
 },
 "nbformat": 4,
 "nbformat_minor": 0
}
